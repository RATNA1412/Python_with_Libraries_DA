{
 "cells": [
  {
   "cell_type": "code",
   "execution_count": 1,
   "id": "ec1b96e6-3780-4118-8e55-648a30126c7a",
   "metadata": {},
   "outputs": [
    {
     "name": "stdin",
     "output_type": "stream",
     "text": [
      "enter ur number: 5\n"
     ]
    },
    {
     "name": "stdout",
     "output_type": "stream",
     "text": [
      "positive number\n"
     ]
    }
   ],
   "source": [
    "# 4 Write a Python program to check if a number is positive, negative or zero.\n",
    "r = int(input(\"enter ur number:\"))\n",
    "if r > 0:\n",
    "    print(\"positive number\")\n",
    "elif r == 0 :\n",
    "    print(\"equal to\")\n",
    "else :\n",
    "    print(\"negative number\")\n"
   ]
  },
  {
   "cell_type": "code",
   "execution_count": 2,
   "id": "28a77900-df46-4146-ae80-ee70c199b84a",
   "metadata": {},
   "outputs": [
    {
     "name": "stdin",
     "output_type": "stream",
     "text": [
      "enter ur number 3\n"
     ]
    },
    {
     "name": "stdout",
     "output_type": "stream",
     "text": [
      "factorial of  given number is : 6\n"
     ]
    }
   ],
   "source": [
    "# 5) write a Python program to get the Factorial number of given numbers.\n",
    "r = int(input(\"enter ur number\"))\n",
    "if r < 0:\n",
    "    print(\"enter positive number\")\n",
    "else :\n",
    "    factorial = 1\n",
    "    for i in range (1,r+1):\n",
    "           factorial*= i\n",
    "    print(\"factorial of  given number is :\",factorial)"
   ]
  },
  {
   "cell_type": "code",
   "execution_count": 3,
   "id": "192aa84e-5ddf-44c5-89c3-f32ee85e1826",
   "metadata": {},
   "outputs": [
    {
     "name": "stdin",
     "output_type": "stream",
     "text": [
      "enter ur range 7\n"
     ]
    },
    {
     "name": "stdout",
     "output_type": "stream",
     "text": [
      "[0, 1, 1, 2, 3, 5, 8, 13, 21]\n"
     ]
    }
   ],
   "source": [
    "# 6)Write a Python program to get the Fibonacci series of given range.\n",
    "num=int(input(\"enter ur range\"))\n",
    "r = [0,1]\n",
    "for i in range (num):\n",
    "    c = r[-1]+r[-2]\n",
    "    r.append(c)\n",
    "\n",
    "print(r)"
   ]
  },
  {
   "cell_type": "code",
   "execution_count": 6,
   "id": "9f4aca15-28ea-4e89-acd3-9209cf969bc9",
   "metadata": {},
   "outputs": [
    {
     "name": "stdin",
     "output_type": "stream",
     "text": [
      "enter a number a 3\n",
      "enter a number b 5\n"
     ]
    },
    {
     "name": "stdout",
     "output_type": "stream",
     "text": [
      "number after swapping are:a =  5 b= 3\n"
     ]
    }
   ],
   "source": [
    "# 9) Write python program that swap two number with temp variableand without temp variable.\n",
    "r1 = int(input(\"enter a number a\"))\n",
    "r2 = int(input(\"enter a number b\"))\n",
    "\n",
    "temp = r1 \n",
    "r1=r2\n",
    "r2= temp\n",
    "print(\"number after swapping are:\" \"a = \",r1 ,\"b=\",r2)"
   ]
  },
  {
   "cell_type": "code",
   "execution_count": 8,
   "id": "871f3729-7f45-4c55-ae67-bd46d89d6dbd",
   "metadata": {},
   "outputs": [
    {
     "name": "stdin",
     "output_type": "stream",
     "text": [
      "enter ur number 3\n"
     ]
    },
    {
     "name": "stdout",
     "output_type": "stream",
     "text": [
      "it is odd\n"
     ]
    }
   ],
   "source": [
    "# (10) Write a Python program to find whether a given number is even or odd, print out an appropriate message to the user.\n",
    "i = int(input(\"enter ur number\"))\n",
    "if i%2 == 0:\n",
    "    print(\"it is even\")\n",
    "else :\n",
    "    print(\"it is odd\")"
   ]
  },
  {
   "cell_type": "code",
   "execution_count": 9,
   "id": "9f107100-d05e-4ee2-963c-14099dcfcd73",
   "metadata": {},
   "outputs": [
    {
     "name": "stdin",
     "output_type": "stream",
     "text": [
      "enter ur word a\n"
     ]
    },
    {
     "name": "stdout",
     "output_type": "stream",
     "text": [
      "its vowel\n"
     ]
    }
   ],
   "source": [
    "# (11) Write a Python program to test whether a passed letter is a vowel or not.\n",
    "r = input(\"enter ur word\")\n",
    "if r ==\"A\"or \"E\" or \"I\" or \"O\" or \"U\" or \"a\" or \"e\" or \"i\" or \"o\" or \"u\":\n",
    "  print(\"its vowel\")\n",
    "else :\n",
    "  print(\"it's not vowel\")"
   ]
  },
  {
   "cell_type": "code",
   "execution_count": 11,
   "id": "2e2f827e-e5cb-4dab-b64c-81739f401cc8",
   "metadata": {},
   "outputs": [
    {
     "name": "stdin",
     "output_type": "stream",
     "text": [
      "enter ur number 2\n",
      "enter ur number 5\n",
      "enter ur number 9\n"
     ]
    },
    {
     "name": "stdout",
     "output_type": "stream",
     "text": [
      "the total number 16\n"
     ]
    }
   ],
   "source": [
    "# (12) Write a Python program to sum of three given integers. However, if two values are equal sum will be zero\n",
    "a = int(input(\"enter ur number\"))\n",
    "b = int(input(\"enter ur number\"))\n",
    "c = int(input(\"enter ur number\")) \n",
    "if a==b or b==c or c==a :\n",
    "    print (\"sum will zero\")\n",
    "else :\n",
    "    print(\"the total number\",a+b+c )"
   ]
  },
  {
   "cell_type": "code",
   "execution_count": 14,
   "id": "3368202b-13cc-4c94-8fc2-830c7198409d",
   "metadata": {},
   "outputs": [
    {
     "name": "stdin",
     "output_type": "stream",
     "text": [
      "enter ur number 2\n",
      "enter ur number 3\n"
     ]
    },
    {
     "name": "stdout",
     "output_type": "stream",
     "text": [
      "true\n"
     ]
    }
   ],
   "source": [
    "# (13) Write a Python program that will return true if the two given integer values are equal or their sum or difference is 5.\n",
    "a = int(input(\"enter ur number\"))\n",
    "b = int(input(\"enter ur number\"))\n",
    "if a==b or a+b ==5 or a-b ==5 :\n",
    "  print(\"true\")\n",
    "else :\n",
    "  print(\"false\")"
   ]
  },
  {
   "cell_type": "code",
   "execution_count": 16,
   "id": "91723096-2650-4df6-bce4-d27bdae2101f",
   "metadata": {},
   "outputs": [
    {
     "name": "stdin",
     "output_type": "stream",
     "text": [
      "enter ur number 7\n"
     ]
    },
    {
     "name": "stdout",
     "output_type": "stream",
     "text": [
      "28\n"
     ]
    }
   ],
   "source": [
    "# (14) Write a python program to sum of the first n positive integers.\n",
    "r = int(input(\"enter ur number\"))\n",
    "sum = 0\n",
    "for i in range(1,r+1):\n",
    "    sum += i\n",
    "print(sum)"
   ]
  },
  {
   "cell_type": "code",
   "execution_count": 18,
   "id": "0c7f10a3-11e2-439b-a076-78f0169a304d",
   "metadata": {},
   "outputs": [
    {
     "name": "stdin",
     "output_type": "stream",
     "text": [
      "enter ur statment ratna singh\n"
     ]
    },
    {
     "name": "stdout",
     "output_type": "stream",
     "text": [
      "the total length 11\n"
     ]
    }
   ],
   "source": [
    "# (15) Write a Python program to calculate the length of a string.\n",
    "r = input(\"enter ur statment\")\n",
    "print(\"the total length\",len(r))"
   ]
  },
  {
   "cell_type": "code",
   "execution_count": 26,
   "id": "8462c697-232b-4def-ac3f-90a02dd17383",
   "metadata": {},
   "outputs": [
    {
     "name": "stdin",
     "output_type": "stream",
     "text": [
      "enter ur statment ratna\n"
     ]
    },
    {
     "name": "stdout",
     "output_type": "stream",
     "text": [
      "{'r': 1, 'a': 2, 't': 1, 'n': 1}\n"
     ]
    }
   ],
   "source": [
    "# (16) Write a Python program to count the number of characters (character frequency) in a string\n",
    "dict = {}\n",
    "a= input(\"enter ur statment\")\n",
    "for char in a:\n",
    "    dict[char]=dict.get(char,0)+1\n",
    "print(dict)\n"
   ]
  },
  {
   "cell_type": "code",
   "execution_count": 27,
   "id": "46d6b78b-4ada-40fe-b174-3cfc755589f2",
   "metadata": {},
   "outputs": [
    {
     "name": "stdin",
     "output_type": "stream",
     "text": [
      "enter ur string ratna\n",
      "enter ur string  singh\n"
     ]
    },
    {
     "name": "stdout",
     "output_type": "stream",
     "text": [
      "substring is  1\n"
     ]
    }
   ],
   "source": [
    "# (18) Write a Python program to count occurrences of a substring in a string.\n",
    "a = input(\"enter ur string\")\n",
    "b = input(\"enter ur string \")\n",
    "l = a.count(a)\n",
    "print(\"substring is \",l)\n"
   ]
  },
  {
   "cell_type": "code",
   "execution_count": 28,
   "id": "8bb06135-ea45-4f53-a0e8-135386c7935f",
   "metadata": {},
   "outputs": [
    {
     "name": "stdin",
     "output_type": "stream",
     "text": [
      "enter ur string 1: radha\n",
      "enter ur string 1: krishna\n"
     ]
    },
    {
     "data": {
      "text/plain": [
       "'krra rakr'"
      ]
     },
     "execution_count": 28,
     "metadata": {},
     "output_type": "execute_result"
    }
   ],
   "source": [
    "# (20) Write a Python program to get a single string from two given strings, separated by a space and swap the first two characters of each string.\n",
    "a = input(\"enter ur string 1:\")\n",
    "b = input(\"enter ur string 1:\")\n",
    "p= b[0:2] + a[0:2]\n",
    "q= a[0:2] + b[0:2]\n",
    "l = p + \" \"+ q\n",
    "l"
   ]
  },
  {
   "cell_type": "code",
   "execution_count": 30,
   "id": "664bd1cb-a8ea-4bd3-ad0f-e15a8c8bbed3",
   "metadata": {},
   "outputs": [
    {
     "name": "stdin",
     "output_type": "stream",
     "text": [
      "enter ur value come\n"
     ]
    },
    {
     "name": "stdout",
     "output_type": "stream",
     "text": [
      "comeing\n"
     ]
    }
   ],
   "source": [
    "# (21) Write a Python program to add 'in' at the end of a given string (length should be at least 3). If the given string already ends with 'ing' then ###add 'ly' instead if the string length of the given string is less than 3, leave it unchanged.\n",
    "r = input(\"enter ur value\")\n",
    "if len(r)<3 :\n",
    "    result = r\n",
    "elif a.endswith(\"ing\"):\n",
    "    result = r + \"ly\"\n",
    "else :\n",
    "    result = r + \"ing\"\n",
    "print(result)"
   ]
  },
  {
   "cell_type": "code",
   "execution_count": 32,
   "id": "468f9403-7270-4600-889d-9e814ed48081",
   "metadata": {},
   "outputs": [
    {
     "name": "stdin",
     "output_type": "stream",
     "text": [
      "enter ur word drashti\n"
     ]
    }
   ],
   "source": [
    "# (22) Write a Python function to reverses a string if its length is a multiple of 4.\n",
    "a = input(\"enter ur word\")\n",
    "if len(a) %4 == 0 :\n",
    "    a= a[::-1]\n",
    "    print(a)"
   ]
  },
  {
   "cell_type": "code",
   "execution_count": null,
   "id": "e0804cbb-afb8-442f-9e5c-2f16f79176b7",
   "metadata": {},
   "outputs": [],
   "source": [
    "# (23) Write a Python program to get a string made of the first 2 and the last 2 chars from a given a string. If the string length is less than 2return\n",
    "# instead of the empty string.\n",
    "\n",
    "def getnewStr(str):\n",
    "    if len(str)>2:\n",
    "      newstr=str[0:2]+str[-2:]\n",
    "      return newstr\n",
    "    else:\n",
    "        return \" \"\n",
    "    \n",
    "\n",
    "result=getnewStr(\"Ratna\")\n",
    "print(result)\n",
    "    "
   ]
  },
  {
   "cell_type": "code",
   "execution_count": 2,
   "id": "9c5ee241-7034-4207-b1cb-b8b7f211544f",
   "metadata": {},
   "outputs": [
    {
     "name": "stdin",
     "output_type": "stream",
     "text": [
      "enter a 1st string drashti\n",
      "enter a 2nd string ratna\n"
     ]
    },
    {
     "data": {
      "text/plain": [
       "'draratnahti'"
      ]
     },
     "execution_count": 2,
     "metadata": {},
     "output_type": "execute_result"
    }
   ],
   "source": [
    "# (24) Write a Python function to insert a string in the middle of a string.\n",
    "a=input(\"enter a 1st string\")\n",
    "b=input(\"enter a 2nd string\")\n",
    "\n",
    "c = len(a)//2\n",
    "d = a[:c]+ \"\" + b +a[c+1:]\n",
    "d"
   ]
  },
  {
   "cell_type": "code",
   "execution_count": 3,
   "id": "5210d840-7f95-4ec8-9fd4-2ea30716949c",
   "metadata": {},
   "outputs": [
    {
     "data": {
      "text/plain": [
       "25"
      ]
     },
     "execution_count": 3,
     "metadata": {},
     "output_type": "execute_result"
    }
   ],
   "source": [
    "# (27) Suppose list1 is [2, 33, 222, 14, and 25], what is list1 [-1]?\n",
    "list1=[2,33,222,14,25]\n",
    "list1[-1]"
   ]
  },
  {
   "cell_type": "code",
   "execution_count": 1,
   "id": "d8997ef8-a65b-4c13-8b8f-c217fa48c529",
   "metadata": {},
   "outputs": [
    {
     "name": "stdout",
     "output_type": "stream",
     "text": [
      "large number is : 13\n",
      "small number is : 1\n",
      "sum number is : 49\n"
     ]
    }
   ],
   "source": [
    "# (29) Write a Python function to get the largest number, smallest num and sum of all from a list.\n",
    "a=[1,3,5,7,9,11,13]\n",
    "large = max(a)\n",
    "small = min(a)\n",
    "sum = sum(a)\n",
    "print(\"large number is :\",large)\n",
    "print(\"small number is :\",small)\n",
    "print(\"sum number is :\",sum)"
   ]
  },
  {
   "cell_type": "code",
   "execution_count": null,
   "id": "e4c34b9f-511d-4d71-8e6e-2a8b6deba537",
   "metadata": {},
   "outputs": [],
   "source": [
    "# (31) Write a Python program to count the number of strings where the string length is 2 or more and the first and last character are same from a\n",
    "# given list of strings\n",
    "def countString(lst):\n",
    "    count=0\n",
    "    for data in lst:\n",
    "        if type(data)==str and len(data)>=2 and data[0]==data[-1]:\n",
    "            print(data)\n",
    "            \n",
    "lst1=[54,\"gag\",78]\n",
    "countString(lst1)"
   ]
  },
  {
   "cell_type": "code",
   "execution_count": 3,
   "id": "d1741b14-c754-429e-926f-10ef862b3b99",
   "metadata": {},
   "outputs": [
    {
     "data": {
      "text/plain": [
       "{1, 2, 3, 4, 5, 6, 7, 8}"
      ]
     },
     "execution_count": 3,
     "metadata": {},
     "output_type": "execute_result"
    }
   ],
   "source": [
    "# (32)Write a Python program to remove duplicates from a list.\n",
    "r = [1,2,3,4,4,5,6,7,8]\n",
    "s =set(r)\n",
    "s"
   ]
  },
  {
   "cell_type": "code",
   "execution_count": 4,
   "id": "6d39120e-8159-40e2-89e0-f76b4f09c360",
   "metadata": {},
   "outputs": [
    {
     "name": "stdout",
     "output_type": "stream",
     "text": [
      "list is empty\n"
     ]
    }
   ],
   "source": [
    "# (33)Write a Python program to check a list is empty or not\n",
    "A = []\n",
    "if len(A) == 0:\n",
    "    print(\"list is empty\")\n",
    "else:\n",
    "    print(\"list is not empty\")"
   ]
  },
  {
   "cell_type": "code",
   "execution_count": 5,
   "id": "a180928a-a4ec-4a62-9945-4c1167293a40",
   "metadata": {},
   "outputs": [
    {
     "name": "stdout",
     "output_type": "stream",
     "text": [
      "true\n"
     ]
    }
   ],
   "source": [
    "# (34) Write a Python function that takes two lists and returns true if they have at least one common member.\n",
    "r = [1,2,3,4]\n",
    "s = [4,5,6,7]\n",
    "\n",
    "\n",
    "for i in r:\n",
    "    if i in s:\n",
    "        r = \"true\"\n",
    "        break\n",
    "    else:\n",
    "        r= \"false\"\n",
    "print(r)"
   ]
  },
  {
   "cell_type": "code",
   "execution_count": null,
   "id": "bb4d537c-ca87-4ed4-86b7-f9cc4b5283a6",
   "metadata": {},
   "outputs": [],
   "source": [
    "# (35) Write a Python program to generate and print a list of first and last 5 elements where the values are square of numbers between 1 and 30.\n",
    "def List_Oprations():\n",
    "    new_lst=[i**2 for i in range(1,31)]\n",
    "    print(new_lst[:5])\n",
    "    print(new_lst[-5:])\n",
    "    \n",
    "    \n",
    "List_Oprations()\n",
    "    "
   ]
  },
  {
   "cell_type": "code",
   "execution_count": 7,
   "id": "af2268d8-fed6-4aee-9dc7-e63c49e44347",
   "metadata": {},
   "outputs": [
    {
     "data": {
      "text/plain": [
       "{1, 2, 3, 4, 5}"
      ]
     },
     "execution_count": 7,
     "metadata": {},
     "output_type": "execute_result"
    }
   ],
   "source": [
    "# (36) Write a Python function that takes a list and returns a new list with unique elements of the first list\n",
    "a = [1,2,3,4,3,2,5,1,4]\n",
    "b = set(a)\n",
    "b"
   ]
  },
  {
   "cell_type": "code",
   "execution_count": 9,
   "id": "cba18e4a-66b4-4c08-8efe-6a1334e45651",
   "metadata": {},
   "outputs": [
    {
     "data": {
      "text/plain": [
       "'cat dog cow owl'"
      ]
     },
     "execution_count": 9,
     "metadata": {},
     "output_type": "execute_result"
    }
   ],
   "source": [
    "# (37)Write a Python program to convert a list of characters into a string.\n",
    "r = [\"cat\",\"dog\",\"cow\",\"owl\"]\n",
    "s = ' '.join(r)\n",
    "s"
   ]
  },
  {
   "cell_type": "code",
   "execution_count": 10,
   "id": "27e566ae-f367-4420-86bc-d521241a1b01",
   "metadata": {},
   "outputs": [
    {
     "name": "stdout",
     "output_type": "stream",
     "text": [
      "5\n"
     ]
    }
   ],
   "source": [
    "# (38)Write a Python program to select an item randomly from a list.\n",
    "import random\n",
    "l14= [1,2,3,4,5,\"r\",\"s\"]\n",
    "print(random.choice(l14))"
   ]
  },
  {
   "cell_type": "code",
   "execution_count": 11,
   "id": "e59616dc-ccf5-4f75-bbea-a2673f83d585",
   "metadata": {},
   "outputs": [
    {
     "data": {
      "text/plain": [
       "2"
      ]
     },
     "execution_count": 11,
     "metadata": {},
     "output_type": "execute_result"
    }
   ],
   "source": [
    "# (39)Write a Python program to find the second smallest number in a list.\n",
    "a = [1,2,3,4,5,6,7,8,9]\n",
    "b = a.remove(min(a))\n",
    "c = min(a)\n",
    "c"
   ]
  },
  {
   "cell_type": "code",
   "execution_count": 12,
   "id": "90512af4-deec-4082-82c0-fbd72e0788de",
   "metadata": {},
   "outputs": [
    {
     "name": "stdout",
     "output_type": "stream",
     "text": [
      "Unique List= {1, 2, 3, 4, 5, 'b', 'a'}\n"
     ]
    }
   ],
   "source": [
    "# (40)Write a Python program to get unique values from a list\n",
    "r=[1,2,4,3,4,5,\"a\",\"b\",\"a\"]\n",
    "s = set(r)\n",
    "print(\"Unique List=\", s)"
   ]
  },
  {
   "cell_type": "code",
   "execution_count": 15,
   "id": "a5863f25-ba77-4334-9135-bdbe789eb564",
   "metadata": {},
   "outputs": [
    {
     "name": "stdout",
     "output_type": "stream",
     "text": [
      "not sub list\n",
      "sub list\n"
     ]
    }
   ],
   "source": [
    "# (41)Write a Python program to check whether a list contains a sub list\n",
    "r = [1,2,3,4,5,6,7,9]\n",
    "s = [11,9]\n",
    "\n",
    "for i in s:\n",
    "    if i in r:\n",
    "        print(\"sub list\")\n",
    "        \n",
    "    else:\n",
    "        print(\"not sub list\")"
   ]
  },
  {
   "cell_type": "code",
   "execution_count": 16,
   "id": "dce2110d-74be-4a7a-b86a-8191b2b7ff7c",
   "metadata": {},
   "outputs": [
    {
     "name": "stdout",
     "output_type": "stream",
     "text": [
      "(1, 2, 3)\n"
     ]
    },
    {
     "data": {
      "text/plain": [
       "(4, 5, 6)"
      ]
     },
     "execution_count": 16,
     "metadata": {},
     "output_type": "execute_result"
    }
   ],
   "source": [
    "# (42)Write a Python program to split a list into different variables.\n",
    "a = [(1,2,3),(4,5,6)]\n",
    "l,m = a\n",
    "print(l)\n",
    "m"
   ]
  },
  {
   "cell_type": "code",
   "execution_count": 17,
   "id": "ee72c1e9-f2f5-4434-a85f-a7ac630f2d50",
   "metadata": {},
   "outputs": [
    {
     "name": "stdout",
     "output_type": "stream",
     "text": [
      "<class 'tuple'>\n"
     ]
    }
   ],
   "source": [
    "# (44)Write a Python program to create a tuple with different data types\n",
    "r = (\"ra\",[2],(\"tn\"),8,5,(a,b))\n",
    "print(type(r))"
   ]
  },
  {
   "cell_type": "code",
   "execution_count": 19,
   "id": "089226f7-a15d-41f6-afcb-b3aa32cc43c6",
   "metadata": {},
   "outputs": [
    {
     "data": {
      "text/plain": [
       "(('1', 'a', 'c', '7', 1),)"
      ]
     },
     "execution_count": 19,
     "metadata": {},
     "output_type": "execute_result"
    }
   ],
   "source": [
    "# (45)Write a Python program to unzip a list of tuples into individual lists.\n",
    "rs = ('1','a','c','7',(1,2))\n",
    "rs1 = tuple(zip(*rs))\n",
    "rs1"
   ]
  },
  {
   "cell_type": "code",
   "execution_count": 22,
   "id": "1258649a-0fb2-4ff3-87a2-e6bb87325f0f",
   "metadata": {},
   "outputs": [
    {
     "data": {
      "text/plain": [
       "{'r': 1, 'd': 2, 'g': 3}"
      ]
     },
     "execution_count": 22,
     "metadata": {},
     "output_type": "execute_result"
    }
   ],
   "source": [
    "# (46)Write a Python program to convert a list of tuples into a dictionary\n",
    "r =[(\"r\",1),(\"d\",2),(\"g\",3)]\n",
    "s = dict(r)\n",
    "s"
   ]
  },
  {
   "cell_type": "code",
   "execution_count": 25,
   "id": "4da12d0c-10ac-4e48-8b4b-16cdf86dca7c",
   "metadata": {},
   "outputs": [
    {
     "data": {
      "text/plain": [
       "{1, 2, 3, 4, 5, 6}"
      ]
     },
     "execution_count": 25,
     "metadata": {},
     "output_type": "execute_result"
    }
   ],
   "source": [
    "# (48)Write a Python script to sort (ascending and descending) a dictionary by value.\n",
    "dict1 ={2,3,5,1,4,6}\n",
    "a = set(dict1)\n",
    "a"
   ]
  },
  {
   "cell_type": "code",
   "execution_count": 26,
   "id": "7f3db6d9-f8ee-4d14-96fb-d2dfc6eefc9b",
   "metadata": {},
   "outputs": [
    {
     "data": {
      "text/plain": [
       "{1, 2, 3, 4, 5, 6, 7, 8, 9}"
      ]
     },
     "execution_count": 26,
     "metadata": {},
     "output_type": "execute_result"
    }
   ],
   "source": [
    "# (49)Write a Python script to concatenate following dictionaries to create a new one.\n",
    "dict1={1,2,3}\n",
    "dict2={4,5,6}\n",
    "dict3={7,8,9}\n",
    "dict4={}\n",
    "dict4 = dict1.copy()\n",
    "dict4.update(dict2)\n",
    "dict4.update(dict3)\n",
    "dict4"
   ]
  },
  {
   "cell_type": "code",
   "execution_count": 27,
   "id": "aaab7176-f9f2-42ef-a5e0-96d3edc37edc",
   "metadata": {},
   "outputs": [
    {
     "name": "stdin",
     "output_type": "stream",
     "text": [
      "input ur key banana\n"
     ]
    },
    {
     "name": "stdout",
     "output_type": "stream",
     "text": [
      "key is in dic1\n"
     ]
    }
   ],
   "source": [
    "# 50)Write a Python script to check if a given key already exists in a dictionary.\n",
    "dic1 = {\"apple\",\"mango\",\"banana\",\"lichy\",\"orange\"}\n",
    "key = input(\"input ur key\")\n",
    "if key in dic1 :\n",
    "    print(\"key is in dic1\")\n",
    "else :\n",
    "    print(\"key is not dic1 \")"
   ]
  },
  {
   "cell_type": "code",
   "execution_count": 28,
   "id": "18381a55-1b60-4ad2-a715-0ca7e695fe6c",
   "metadata": {},
   "outputs": [
    {
     "name": "stdout",
     "output_type": "stream",
     "text": [
      "Dictionary: {1: 1, 2: 4, 3: 9, 4: 16, 5: 25, 6: 36, 7: 49, 8: 64, 9: 81, 10: 100, 11: 121, 12: 144, 13: 169, 14: 196, 15: 225}\n"
     ]
    }
   ],
   "source": [
    "# (53)Write a Python script to print a dictionary where the keys are numbers between 1 and 15.\n",
    "dict1 = {}\n",
    "for key in range(1, 16):\n",
    "    dict1[key] = key ** 2\n",
    "print(\"Dictionary:\", dict1)"
   ]
  },
  {
   "cell_type": "code",
   "execution_count": 29,
   "id": "6463def4-1df1-4262-a92d-64e7b25281a9",
   "metadata": {},
   "outputs": [
    {
     "name": "stdout",
     "output_type": "stream",
     "text": [
      "na bhai nhi he \n"
     ]
    }
   ],
   "source": [
    "# (54)Write a Python program to check multiple keys exists in a dictionary\n",
    "dict1 = {\n",
    "    \"name\" : \"shyam\" ,\n",
    "    \"age\": 23 ,\n",
    "    \"city\" : \"ahmedabd\"\n",
    "}\n",
    "key= {\"name\",\"age\",\"state\"}\n",
    "if key.issubset(dict1.keys()):\n",
    "    print(\"ha bhai he\")\n",
    "else :\n",
    "    print(\"na bhai nhi he \")"
   ]
  },
  {
   "cell_type": "code",
   "execution_count": 30,
   "id": "5f3a8f3d-d8e3-45d6-96e0-f4dec8f41f6c",
   "metadata": {},
   "outputs": [],
   "source": [
    "# (55)Write a Python script to merge two Python dictionaries\n",
    "def merge(dict1,dict2):\n",
    "   return(dict1.update(dict2))\n",
    "dict11 = {1,2,3,4,5 }\n",
    "dict12 = {'r','a','t','n','a'}"
   ]
  },
  {
   "cell_type": "code",
   "execution_count": 31,
   "id": "0577efb1-8797-42c4-a11a-b1c7241603a7",
   "metadata": {},
   "outputs": [
    {
     "data": {
      "text/plain": [
       "{1, 2, 3, 4, 5, 'a', 'n', 'r', 't'}"
      ]
     },
     "execution_count": 31,
     "metadata": {},
     "output_type": "execute_result"
    }
   ],
   "source": [
    "merge(dict11,dict12)\n",
    "dict11"
   ]
  },
  {
   "cell_type": "code",
   "execution_count": 32,
   "id": "9ea7b6cd-d0b5-494b-8c09-bad7b128ea7a",
   "metadata": {},
   "outputs": [
    {
     "data": {
      "text/plain": [
       "{'a': 1, 'b': 2, 'c': 3}"
      ]
     },
     "execution_count": 32,
     "metadata": {},
     "output_type": "execute_result"
    }
   ],
   "source": [
    "# (56)Write a Python program to map two lists into a dictionary\n",
    "key = ['a','b','c']\n",
    "value = [1,2,3]\n",
    "dic1 = {}\n",
    "for  i in range(len(key)):\n",
    "    dic1[key[i]] = value[i]\n",
    "dic1"
   ]
  },
  {
   "cell_type": "code",
   "execution_count": 33,
   "id": "101378a1-9dd9-4567-9ccf-fa3ccb8ad75c",
   "metadata": {},
   "outputs": [
    {
     "name": "stdout",
     "output_type": "stream",
     "text": [
      "highest value 3  [900, 6000]\n"
     ]
    }
   ],
   "source": [
    "# (57)Write a Python program to find the highest 3 values in a dictionary\n",
    "dict = {100,50,6000,130,900,900}\n",
    "lst = list(dict)\n",
    "lst.sort()\n",
    "print(\"highest value 3 \", lst[3:])"
   ]
  },
  {
   "cell_type": "code",
   "execution_count": null,
   "id": "dbecbb7d-e37b-4ff1-801f-49525ca622ee",
   "metadata": {},
   "outputs": [],
   "source": [
    "# (58)Write a Python program to combine values in python list of dictionaries\n",
    "list1=[{'item': 'item1', 'amount': 400}, {'item': 'item2', 'amount':300},{'item': 'item1', 'amount': 750}]\n",
    "\n",
    "dict1={dictnr['item']: sum(d['amount']for d in list1 if d['item']==dictnr['item']) for dictnr in list1}\n",
    "print(dict1)"
   ]
  },
  {
   "cell_type": "code",
   "execution_count": 34,
   "id": "6afda127-325c-435e-b596-d6f6aa6db18f",
   "metadata": {},
   "outputs": [
    {
     "name": "stdin",
     "output_type": "stream",
     "text": [
      "enter a string a\n"
     ]
    },
    {
     "name": "stdout",
     "output_type": "stream",
     "text": [
      "{'a': 1}\n"
     ]
    }
   ],
   "source": [
    "# (59)Write a Python program to create a dictionary from a string.\n",
    "# Note: Track the count of the letters from the string\n",
    "str = input(\"enter a string\")\n",
    "r = {}\n",
    "for  i in str:\n",
    "    if  i in r:\n",
    "        r[i] += 1\n",
    "    else:\n",
    "        r[i] = 1\n",
    "print(r)"
   ]
  },
  {
   "cell_type": "code",
   "execution_count": 36,
   "id": "a688a11c-d4cd-4a3d-96d2-282a8eeaf062",
   "metadata": {},
   "outputs": [
    {
     "name": "stdout",
     "output_type": "stream",
     "text": [
      "{'w': 1, '3': 1, 'r': 2, 'e': 2, 's': 1, 'o': 1, 'u': 1, 'c': 1}\n"
     ]
    }
   ],
   "source": [
    "# (60)Sample string:\n",
    "# w3resource' Expected output: • {'3': 1,’s’: 1, 'r': 2, 'u': 1, 'w': 1, 'c': 1, 'e': 2, 'o': 1}\n",
    "str = \"w3resource\"\n",
    "char_count1 = {}\n",
    "for  j in str:\n",
    "    if  j in char_count1:\n",
    "        char_count1[j] += 1\n",
    "    else:\n",
    "        char_count1[j] = 1\n",
    "print(char_count1)"
   ]
  },
  {
   "cell_type": "code",
   "execution_count": 39,
   "id": "afdc5778-81d2-416a-bd7b-f6dd0ed99dc1",
   "metadata": {},
   "outputs": [
    {
     "name": "stdin",
     "output_type": "stream",
     "text": [
      "enter a number 8\n"
     ]
    },
    {
     "data": {
      "text/plain": [
       "40320"
      ]
     },
     "execution_count": 39,
     "metadata": {},
     "output_type": "execute_result"
    }
   ],
   "source": [
    "# (61)Write a Python function to calculate the factorial of a number (anonnegative integer)\n",
    "import math\n",
    "r = int(input(\"enter a number\"))\n",
    "s = math.factorial(r)\n",
    "s"
   ]
  },
  {
   "cell_type": "code",
   "execution_count": null,
   "id": "736ef997-065e-4a7b-b473-075ddc5b82a6",
   "metadata": {},
   "outputs": [],
   "source": [
    "# (62)Write a Python function to check whether a number is in a given range\n",
    "def func_in_range(n):\n",
    "    start=36\n",
    "    end=88\n",
    "    if n>=start and n<=end:\n",
    "        return\"the given number in range\"\n",
    "    else:\n",
    "        return\"the given number is not in range\"\n",
    "    \n",
    "userinput=int(input(\"enter a number between 36 and 88 : \"))\n",
    "print(func_in_range(userinput))"
   ]
  },
  {
   "cell_type": "code",
   "execution_count": null,
   "id": "305eaa87-766b-49df-bda5-ac11eddb881b",
   "metadata": {},
   "outputs": [],
   "source": [
    "# (63)Write a Python function to check whether a number is perfect or not.\n",
    "def num_perfect(n):\n",
    "  sum=0\n",
    "  for i in range(1,n):\n",
    "    if n%i==0:\n",
    "        sum+=i\n",
    "  return sum\n",
    "\n",
    "\n",
    "usernum=int(input(\"enter a number : \"))\n",
    "\n",
    "if num_perfect(usernum)==usernum:\n",
    "    print(\"entered number is a perfect number\")\n",
    "else:\n",
    "    print(\"entered number is not a perfect number\")\n",
    "    \n",
    "    "
   ]
  },
  {
   "cell_type": "code",
   "execution_count": 40,
   "id": "8045af5f-3dd2-4f1b-857a-ddb629aa4f7a",
   "metadata": {},
   "outputs": [
    {
     "name": "stdin",
     "output_type": "stream",
     "text": [
      "enter a string 4\n"
     ]
    },
    {
     "name": "stdout",
     "output_type": "stream",
     "text": [
      "it is palindrome\n"
     ]
    }
   ],
   "source": [
    "# (64)Write a Python function that checks whether a passed string is palindrome or not\n",
    "def pal(r):\n",
    "    return r == r[::-1]\n",
    "r1 = input(\"enter a string\")\n",
    "if pal(r1):\n",
    "    print(\"it is palindrome\")\n",
    "else:\n",
    "    print(\"it is bot palindrome\")"
   ]
  },
  {
   "cell_type": "code",
   "execution_count": null,
   "id": "1c451898-40a5-46a8-bf54-fa1168147bd1",
   "metadata": {},
   "outputs": [],
   "source": [
    "# Define the file path\n",
    "file_path = 'example.txt'\n",
    "\n",
    "# Open the file in read mode\n",
    "with open(file_path, 'r') as file:\n",
    "    # Read the entire content of the file\n",
    "    content = file.read()\n",
    "\n",
    "# Print the content\n",
    "print(content)"
   ]
  },
  {
   "cell_type": "code",
   "execution_count": null,
   "id": "9b5c42ee-bebb-41d0-af72-77743747aae9",
   "metadata": {},
   "outputs": [],
   "source": [
    "# Append text to a file and display the content\n",
    "file_path = 'example.txt'\n",
    "\n",
    "# Text to append\n",
    "text_to_append = \"This is the appended text.\\n\"\n",
    "\n",
    "# Open the file in append mode\n",
    "with open(file_path, 'a') as file:\n",
    "    file.write(text_to_append)\n",
    "\n",
    "# Read and display the content of the file\n",
    "with open(file_path, 'r') as file:\n",
    "    content = file.read()\n",
    "    print(content)"
   ]
  },
  {
   "cell_type": "code",
   "execution_count": null,
   "id": "39ed91ee-4825-49c7-948c-2cc77503afec",
   "metadata": {},
   "outputs": [],
   "source": [
    "# Read first n lines of a file\n",
    "file_path = 'example.txt'\n",
    "n = 5  # Number of lines to read\n",
    "\n",
    "with open(file_path, 'r') as file:\n",
    "    for _ in range(n):\n",
    "        print(file.readline(), end=\"\")"
   ]
  },
  {
   "cell_type": "code",
   "execution_count": null,
   "id": "51048042-060d-458c-9c83-93b4d1e793b3",
   "metadata": {},
   "outputs": [],
   "source": [
    "# Read last n lines of a file\n",
    "file_path = 'example.txt'\n",
    "n = 5  # Number of lines to read from the end\n",
    "\n",
    "with open(file_path, 'r') as file:\n",
    "    lines = file.readlines()\n",
    "    for line in lines[-n:]:\n",
    "        print(line, end=\"\")"
   ]
  },
  {
   "cell_type": "code",
   "execution_count": null,
   "id": "2e92ba4d-0601-4752-bce8-f57d13859eea",
   "metadata": {},
   "outputs": [],
   "source": [
    "# Read file line by line and store it into a list\n",
    "file_path = 'example.txt'\n",
    "\n",
    "with open(file_path, 'r') as file:\n",
    "    lines = file.readlines()\n",
    "\n",
    "print(lines)  # List containing all lines"
   ]
  },
  {
   "cell_type": "code",
   "execution_count": null,
   "id": "5dd60ca4-d117-4474-aecc-f7dfaba90f1f",
   "metadata": {},
   "outputs": [],
   "source": [
    "# Read file line by line and store it into a variable\n",
    "file_path = 'example.txt'\n",
    "content = \"\"\n",
    "\n",
    "with open(file_path, 'r') as file:\n",
    "    for line in file:\n",
    "        content += line\n",
    "\n",
    "print(content)  # Entire content of the file stored in 'content'"
   ]
  },
  {
   "cell_type": "code",
   "execution_count": null,
   "id": "2a0c4289-dfd8-49c9-8303-4785faa794c5",
   "metadata": {},
   "outputs": [],
   "source": [
    "# Find the longest word in a file\n",
    "file_path = 'example.txt'\n",
    "\n",
    "with open(file_path, 'r') as file:\n",
    "    words = file.read().split()\n",
    "\n",
    "longest_word = max(words, key=len)\n",
    "print(\"The longest word is:\", longest_word)"
   ]
  },
  {
   "cell_type": "code",
   "execution_count": null,
   "id": "bbe4bdce-4cab-4fdb-9a34-db8ec377a7e1",
   "metadata": {},
   "outputs": [],
   "source": [
    "# Count the number of lines in a text file\n",
    "file_path = 'example.txt'\n",
    "\n",
    "with open(file_path, 'r') as file:\n",
    "    line_count = sum(1 for line in file)\n",
    "\n",
    "print(f\"Number of lines in the file: {line_count}\")"
   ]
  },
  {
   "cell_type": "code",
   "execution_count": null,
   "id": "e9be3e9d-26e6-4d6c-9069-fe037e687f9b",
   "metadata": {},
   "outputs": [],
   "source": [
    "# Count the frequency of words in a file\n",
    "file_path = 'example.txt'\n",
    "\n",
    "with open(file_path, 'r') as file:\n",
    "    text = file.read().lower()  # Convert text to lowercase for case-insensitive counting\n",
    "    words = text.split()\n",
    "\n",
    "word_count = {}\n",
    "for word in words:\n",
    "    word_count[word] = word_count.get(word, 0) + 1\n",
    "\n",
    "print(word_count)"
   ]
  },
  {
   "cell_type": "code",
   "execution_count": null,
   "id": "cddaca40-f71c-4024-94db-8d7530cdd1df",
   "metadata": {},
   "outputs": [],
   "source": [
    "# Write a list to a file\n",
    "file_path = 'example.txt'\n",
    "my_list = ['apple', 'banana', 'cherry', 'date']\n",
    "\n",
    "with open(file_path, 'w') as file:\n",
    "    for item in my_list:\n",
    "        file.write(f\"{item}\\n\")\n",
    "\n",
    "# Verify by reading and displaying the file content\n",
    "with open(file_path, 'r') as file:\n",
    "    content = file.read()\n",
    "    print(content)"
   ]
  },
  {
   "cell_type": "code",
   "execution_count": null,
   "id": "1d796f8b-64a3-4038-a9ca-1610b913dda2",
   "metadata": {},
   "outputs": [],
   "source": [
    "# Copy the contents of a file to another file\n",
    "source_file_path = 'source.txt'\n",
    "destination_file_path = 'destination.txt'\n",
    "\n",
    "with open(source_file_path, 'r') as source_file:\n",
    "    content = source_file.read()\n",
    "\n",
    "with open(destination_file_path, 'w') as destination_file:\n",
    "    destination_file.write(content)\n",
    "\n",
    "print(f\"Content copied from {source_file_path} to {destination_file_path}\")"
   ]
  }
 ],
 "metadata": {
  "kernelspec": {
   "display_name": "Python 3 (ipykernel)",
   "language": "python",
   "name": "python3"
  },
  "language_info": {
   "codemirror_mode": {
    "name": "ipython",
    "version": 3
   },
   "file_extension": ".py",
   "mimetype": "text/x-python",
   "name": "python",
   "nbconvert_exporter": "python",
   "pygments_lexer": "ipython3",
   "version": "3.13.5"
  }
 },
 "nbformat": 4,
 "nbformat_minor": 5
}
